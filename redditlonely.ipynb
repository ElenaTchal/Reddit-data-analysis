{
 "cells": [
  {
   "cell_type": "code",
   "execution_count": 2,
   "metadata": {},
   "outputs": [
    {
     "data": {
      "image/png": "[encoded data removed]",
      "text/plain": [
       "<Figure size 432x288 with 1 Axes>"
      ]
     },
     "metadata": {
      "needs_background": "light"
     },
     "output_type": "display_data"
    }
   ],
   "source": [
    "import requests\n",
    "import datetime as dt\n",
    "import calendar\n",
    "import pandas\n",
    "import seaborn as sns\n",
    "import json\n",
    "\n",
    "\n",
    "def get_pushshift_data(data_type, **kwargs):\n",
    "    \"\"\"\n",
    "    Gets reddit data from the pushshift API (instead of \n",
    "    the reddit API because pushshift provides much more search results).\n",
    "    \n",
    "    Data_type can be 'comment' or 'submission'\n",
    "    \n",
    "    Read more: https://github.com/pushshift/api\n",
    "    \"\"\"\n",
    "    \n",
    "    base_url = f\"https://api.pushshift.io/reddit/search/{data_type}/\"\n",
    "    params = kwargs\n",
    "    request = requests.get(base_url, params)\n",
    "    return request.json()\n",
    "\n",
    "\n",
    "# Set up search terms:\n",
    "\n",
    "data_type = \"comment\"  # Give me comments\n",
    "subreddit = \"dating_advice\"\n",
    "query = \"lonely\"  # Add my search term\n",
    "duration = \"30d\"   # Integer + \"s,m,h,d\" (i.e. \"second\", \"minute\", \"hour\", \"day\")\n",
    "size = 5000       # Maximum no. of comments\n",
    "sort_type = \"score\"  # Options: \"score\", \"num_comments\", \"created_utc\"\n",
    "sort = \"desc\"     # Sort descending\n",
    "\n",
    "\n",
    "# Make the Pushshift API call:\n",
    "\n",
    "json_data = get_pushshift_data(data_type=data_type, \n",
    "                               q=query,\n",
    "                               subreddit=subreddit,\n",
    "                               after=duration, \n",
    "                               size=size,\n",
    "                               )\n",
    "\n",
    "\n",
    "def get_date(unicodedate):\n",
    "    \"\"\"\n",
    "    Converts unicode date to readable date format\n",
    "    \"\"\"\n",
    "    return dt.datetime.fromtimestamp(unicodedate)\n",
    "\n",
    "\n",
    "# Isolate the data dictionary values we want:\n",
    "\n",
    "json_posts = json_data[\"data\"]\n",
    "all_relevant_post_details = [(post[\"subreddit\"], post[\"created_utc\"]) for post in json_posts]\n",
    "\n",
    "# Put in pandas dataframe:\n",
    "\n",
    "posts_dataframe = pandas.DataFrame(all_relevant_post_details)\n",
    "\n",
    "# Give the columns names:\n",
    "\n",
    "posts_dataframe.columns = [\"Subreddit\", \"unicodedate\"]\n",
    "\n",
    "# Convert the unicode timestamp to a readable one, put in new column, split it to show only the date:\n",
    "\n",
    "_timestamp = posts_dataframe[\"unicodedate\"].apply(get_date)\n",
    "posts_dataframe = posts_dataframe.assign(timestamp=_timestamp)\n",
    "posts_dataframe[\"Date\"] = [d.date() for d in posts_dataframe[\"timestamp\"]]\n",
    "del posts_dataframe[\"unicodedate\"]\n",
    "del posts_dataframe[\"timestamp\"]\n",
    "\n",
    "# Convert the new Date column to display the weekday:\n",
    "\n",
    "day_names = [calendar.day_name[each.weekday()] for each in posts_dataframe[\"Date\"]]\n",
    "posts_dataframe[\"Day\"] = day_names\n",
    "\n",
    "# Add a column with just number 1s to count up the number of comments:\n",
    "\n",
    "_number_of_comments = [1] * len(posts_dataframe[\"Date\"])\n",
    "posts_dataframe[\"Number_of_Comments\"] = _number_of_comments\n",
    "\n",
    "# Sort and group by day of the week:\n",
    "\n",
    "categorical_order = [\"Monday\", \"Tuesday\", \"Wednesday\", \"Thursday\", \"Friday\", \"Saturday\", \"Sunday\"]\n",
    "grouped_by_day = posts_dataframe.groupby(\"Day\")[\"Number_of_Comments\"].count().reindex(categorical_order) \n",
    "\n",
    "# Plot the data:\n",
    "\n",
    "graph = sns.barplot(x=\"Day\",\n",
    "                    y=\"Number_of_Comments\", \n",
    "                    data=grouped_by_day.reset_index(), \n",
    "                    palette=\"flare\"\n",
    "                    )\n",
    "\n"
   ]
  },
  {
   "cell_type": "code",
   "execution_count": null,
   "metadata": {},
   "outputs": [],
   "source": []
  }
 ],
 "metadata": {
  "kernelspec": {
   "display_name": "Python 3",
   "language": "python",
   "name": "python3"
  },
  "language_info": {
   "codemirror_mode": {
    "name": "ipython",
    "version": 3
   },
   "file_extension": ".py",
   "mimetype": "text/x-python",
   "name": "python",
   "nbconvert_exporter": "python",
   "pygments_lexer": "ipython3",
   "version": "3.8.5"
  }
 },
 "nbformat": 4,
 "nbformat_minor": 4
}
